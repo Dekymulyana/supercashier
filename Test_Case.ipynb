{
 "cells": [
  {
   "cell_type": "markdown",
   "id": "8ed44095",
   "metadata": {},
   "source": [
    "# Test Case Super Cashier - Python Project - Ayudina Larasanti"
   ]
  },
  {
   "cell_type": "markdown",
   "id": "d64eae46",
   "metadata": {},
   "source": [
    "## Import modul yang dibutuhkan "
   ]
  },
  {
   "cell_type": "code",
   "execution_count": null,
   "id": "d0be4317",
   "metadata": {},
   "outputs": [],
   "source": []
  },
  {
   "cell_type": "markdown",
   "id": "5981f90b",
   "metadata": {},
   "source": [
    "## Membuat Object pada Class Transaction"
   ]
  },
  {
   "cell_type": "code",
   "execution_count": null,
   "id": "e7a843ea",
   "metadata": {},
   "outputs": [],
   "source": []
  },
  {
   "cell_type": "markdown",
   "id": "d35a41cb",
   "metadata": {},
   "source": [
    "## Tampilan Awal Daftar Pesanan"
   ]
  },
  {
   "cell_type": "code",
   "execution_count": null,
   "id": "7e30485d",
   "metadata": {},
   "outputs": [],
   "source": []
  },
  {
   "cell_type": "markdown",
   "id": "74b3c40c",
   "metadata": {},
   "source": [
    "## Test 1 : Menambahkan Item Pesanan"
   ]
  },
  {
   "cell_type": "markdown",
   "id": "0f5c6d51",
   "metadata": {},
   "source": [
    "Customer ingin menambahkan dua item baru dalam daftar pesanan. Item yang ingin ditambahkan adalah sebagai berikut:\n",
    "1. Nama Item: Ayam Goreng, Qty: 2, Harga: 20000\n",
    "2. Nama Item: Pasta Gigi, Qty: 3, Harga: 15000"
   ]
  },
  {
   "cell_type": "markdown",
   "id": "a9829259",
   "metadata": {},
   "source": [
    "#### Method yang digunakan adalah add_item()"
   ]
  },
  {
   "cell_type": "code",
   "execution_count": null,
   "id": "d9e5e61a",
   "metadata": {},
   "outputs": [],
   "source": []
  },
  {
   "cell_type": "code",
   "execution_count": null,
   "id": "e184ec01",
   "metadata": {},
   "outputs": [],
   "source": []
  },
  {
   "cell_type": "markdown",
   "id": "bddc0621",
   "metadata": {},
   "source": [
    "## Test 2 : Menghapus Salah Satu Item yang Dipesan"
   ]
  },
  {
   "cell_type": "markdown",
   "id": "d779cada",
   "metadata": {},
   "source": [
    "Ternyata Customer salah membeli salah satu item dari belanjaan yang sudah ditambahkan dan ingin menghapusnya, yaitu Pasta Gigi."
   ]
  },
  {
   "cell_type": "markdown",
   "id": "536d83b5",
   "metadata": {},
   "source": [
    "#### Method yang digunakan adalah delete_item()"
   ]
  },
  {
   "cell_type": "code",
   "execution_count": null,
   "id": "56d366d5",
   "metadata": {},
   "outputs": [],
   "source": []
  },
  {
   "cell_type": "markdown",
   "id": "e8e3ff2f",
   "metadata": {},
   "source": [
    "## Test 3 : Menghapus Semua Item yang Telah Dipesan"
   ]
  },
  {
   "cell_type": "markdown",
   "id": "a915ee59",
   "metadata": {},
   "source": [
    "#### Method yang digunakan adalah reset_transaction()"
   ]
  },
  {
   "cell_type": "code",
   "execution_count": null,
   "id": "7e3f17d3",
   "metadata": {},
   "outputs": [],
   "source": []
  },
  {
   "cell_type": "markdown",
   "id": "11d0efaf",
   "metadata": {},
   "source": [
    "## Menambahkan Kembali Item dalam Daftar Pesanan"
   ]
  },
  {
   "cell_type": "markdown",
   "id": "bb09faa5",
   "metadata": {},
   "source": [
    "#### Method yang digunakan adalah add_item()"
   ]
  },
  {
   "cell_type": "markdown",
   "id": "9fa6f313",
   "metadata": {},
   "source": [
    "Item/ barang yang ingin ditambahkan adalah sebagai berikut:\n",
    "1. Nama Item: Sabun, Qty: 4, Harga: 10000\n",
    "2. Nama Item: Handuk, Qty: 2, Harga: 70000\n",
    "3. Nama Item: Minyak Goreng, Qty: 5, Harga: 20000\n",
    "4. Nama Item: Kecap Manis, Qty: 4, Harga: 10000"
   ]
  },
  {
   "cell_type": "code",
   "execution_count": null,
   "id": "c6b5b0bf",
   "metadata": {},
   "outputs": [],
   "source": []
  },
  {
   "cell_type": "markdown",
   "id": "e7cf3af2",
   "metadata": {},
   "source": [
    "### Update Pesanan "
   ]
  },
  {
   "cell_type": "markdown",
   "id": "6fff4881",
   "metadata": {},
   "source": [
    "Jika ternyata ada kesalahan dalam memasukkan nama, jumlah, atau harga item tetapi tidak ingin menghapus itemnya, Customer dapat melakukan update item.\n",
    "\n",
    "Misalnya: \n",
    "1. Customer salah memasukkan Nama Item \"Kecap Manis\", seharusnya \"Kecap Asin\".\n",
    "2. Customer salah memasukkan Jumlah Item Minyak Goreng: 5, seharusnya 4.\n",
    "3. Customer salah memasukkan Harga Item Handuk: 70000, seharusnya 75000."
   ]
  },
  {
   "cell_type": "markdown",
   "id": "8ba3d2f0",
   "metadata": {},
   "source": [
    "#### Method yang digunakan adalah :\n",
    "##### Update_item_name : Untuk mengupdate Nama Item\n",
    "##### Update_item_qty : Untuk mengupdate Jumlah Item\n",
    "##### Update_item_price : Untuk mengupdate Harga Item"
   ]
  },
  {
   "cell_type": "code",
   "execution_count": null,
   "id": "ddbd359b",
   "metadata": {},
   "outputs": [],
   "source": []
  },
  {
   "cell_type": "markdown",
   "id": "c4c76832",
   "metadata": {},
   "source": [
    "### Memeriksa Input Pesanan "
   ]
  },
  {
   "cell_type": "markdown",
   "id": "b40f8d58",
   "metadata": {},
   "source": [
    "Customer sudah selesai memasukkan semua pesanan, namun ragu apakah yang diinputkan sudah sesuai ketentuan. Maka dilakukan pemeriksaan input pesanan."
   ]
  },
  {
   "cell_type": "markdown",
   "id": "0d93b911",
   "metadata": {},
   "source": [
    "#### Method yang digunakan adalah check_order()"
   ]
  },
  {
   "cell_type": "code",
   "execution_count": null,
   "id": "c74b4409",
   "metadata": {},
   "outputs": [],
   "source": []
  },
  {
   "cell_type": "markdown",
   "id": "a3a67c28",
   "metadata": {},
   "source": [
    "## Test 4 : Menghitung Total Pesanan yang Harus Dibayar"
   ]
  },
  {
   "cell_type": "markdown",
   "id": "6b85476a",
   "metadata": {},
   "source": [
    "Setelah Customer selesai belanja, akan dihitung total belanja dan dipotong diskon apabila mencapai batas minimal total belanja.\n",
    "Ketentuan Diskon adalah sebagai berikut:\n",
    "  1. Jika di atas Rp200.000 maka mendapatkan diskon 5%\n",
    "  2. Jika di atas Rp300.000 maka mendapatkan diskon 8%\n",
    "  3. Jika di atas Rp500.000 maka mendapatkan diskon 10%"
   ]
  },
  {
   "cell_type": "code",
   "execution_count": null,
   "id": "75799753",
   "metadata": {},
   "outputs": [],
   "source": []
  }
 ],
 "metadata": {
  "kernelspec": {
   "display_name": "Python 3 (ipykernel)",
   "language": "python",
   "name": "python3"
  },
  "language_info": {
   "codemirror_mode": {
    "name": "ipython",
    "version": 3
   },
   "file_extension": ".py",
   "mimetype": "text/x-python",
   "name": "python",
   "nbconvert_exporter": "python",
   "pygments_lexer": "ipython3",
   "version": "3.9.13"
  }
 },
 "nbformat": 4,
 "nbformat_minor": 5
}
